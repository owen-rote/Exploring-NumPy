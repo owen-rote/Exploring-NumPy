{
 "cells": [
  {
   "cell_type": "markdown",
   "id": "fd9ff346-4ba4-4dae-96c6-fc96d3f836d7",
   "metadata": {},
   "source": [
    "## Exploring basic and practical NumPy functionalities\n",
    "**[github.com/owen-rote](https://github.com/owen-rote)**\n",
    "* **Indexing:** Accessing and manipulating elements within arrays\n",
    "* **Mathematics:** Arithmetic operations, trigonometric functions, etc\n",
    "* **Linear Algebra:** Matrix & vector operations, solving systems of equations\n",
    "* **Statistics:** Calculating common statistics from datasets\n",
    "## Followed: [Tutorial by freeCodeCamp.org on Youtube](https://www.youtube.com/watch?v=QUT1VHiLmmI)"
   ]
  },
  {
   "cell_type": "code",
   "execution_count": 1,
   "id": "9408a078-6f36-4c53-86f4-7b7379220ef1",
   "metadata": {},
   "outputs": [],
   "source": [
    "import numpy as np"
   ]
  },
  {
   "cell_type": "markdown",
   "id": "f3a186b5-1d7b-416f-8274-24ed79499c0c",
   "metadata": {},
   "source": [
    "# Basics"
   ]
  },
  {
   "cell_type": "code",
   "execution_count": 2,
   "id": "99a020ab-a6fc-455e-b92e-6b66116e76fa",
   "metadata": {},
   "outputs": [
    {
     "data": {
      "text/plain": [
       "array([1, 2, 3])"
      ]
     },
     "execution_count": 2,
     "metadata": {},
     "output_type": "execute_result"
    }
   ],
   "source": [
    "a = np.array([1,2,3])\n",
    "a\n",
    "\n",
    "# a = np.array([1, 2, 3]), dtype='int32')"
   ]
  },
  {
   "cell_type": "code",
   "execution_count": 3,
   "id": "7039b3f2-4666-4e96-b686-1e8bce7eba6b",
   "metadata": {},
   "outputs": [
    {
     "name": "stdout",
     "output_type": "stream",
     "text": [
      "[[9. 8. 7.]\n",
      " [6. 5. 4.]]\n"
     ]
    }
   ],
   "source": [
    "b = np.array([[9.0, 8.0, 7.0], [6.0, 5.0, 4.0]])\n",
    "print(b)"
   ]
  },
  {
   "cell_type": "code",
   "execution_count": 4,
   "id": "938b2545-6d7e-43bc-bd14-e1001cbc7603",
   "metadata": {},
   "outputs": [
    {
     "data": {
      "text/plain": [
       "2"
      ]
     },
     "execution_count": 4,
     "metadata": {},
     "output_type": "execute_result"
    }
   ],
   "source": [
    "# Get Dimension\n",
    "b.ndim"
   ]
  },
  {
   "cell_type": "code",
   "execution_count": 5,
   "id": "7fcb2c3e-480f-4c98-9019-b3d43dbeb5f1",
   "metadata": {},
   "outputs": [
    {
     "name": "stdout",
     "output_type": "stream",
     "text": [
      "(2, 3)\n",
      "(Length, Height)\n"
     ]
    }
   ],
   "source": [
    "# Get Shape\n",
    "print(b.shape)\n",
    "print(\"(Length, Height)\")"
   ]
  },
  {
   "cell_type": "code",
   "execution_count": 6,
   "id": "7f732975-0220-4306-89ee-eeadd959cdc2",
   "metadata": {},
   "outputs": [
    {
     "data": {
      "text/plain": [
       "dtype('float64')"
      ]
     },
     "execution_count": 6,
     "metadata": {},
     "output_type": "execute_result"
    }
   ],
   "source": [
    "# Get Type\n",
    "b.dtype"
   ]
  },
  {
   "cell_type": "code",
   "execution_count": 7,
   "id": "b68b7c27-eee7-40ac-9da2-607790d28420",
   "metadata": {},
   "outputs": [
    {
     "data": {
      "text/plain": [
       "8"
      ]
     },
     "execution_count": 7,
     "metadata": {},
     "output_type": "execute_result"
    }
   ],
   "source": [
    "# Get Size (Number of bytes for each element)\n",
    "b.itemsize"
   ]
  },
  {
   "cell_type": "code",
   "execution_count": 8,
   "id": "45de3971-6101-4b16-9732-acfaa0d1b141",
   "metadata": {},
   "outputs": [
    {
     "data": {
      "text/plain": [
       "48"
      ]
     },
     "execution_count": 8,
     "metadata": {},
     "output_type": "execute_result"
    }
   ],
   "source": [
    "# Get Total Size (# of bytes)\n",
    "b.nbytes"
   ]
  },
  {
   "cell_type": "markdown",
   "id": "6285a7d2-8f94-4ef4-83c6-d4e2decdcf9c",
   "metadata": {},
   "source": [
    "# Accessing/Changing specific elements, rows, columns, etc"
   ]
  },
  {
   "cell_type": "code",
   "execution_count": 9,
   "id": "1b20102a-bcd5-415a-a327-014ee9abd9ea",
   "metadata": {},
   "outputs": [
    {
     "name": "stdout",
     "output_type": "stream",
     "text": [
      "[[ 1  2  3  4  5  6  7]\n",
      " [ 8  9 10 11 12 13 14]]\n"
     ]
    },
    {
     "data": {
      "text/plain": [
       "(2, 7)"
      ]
     },
     "execution_count": 9,
     "metadata": {},
     "output_type": "execute_result"
    }
   ],
   "source": [
    "a = np.array([[1,2,3,4,5,6,7],[8,9,10,11,12,13,14]])\n",
    "print(a)\n",
    "a.shape # 2*7 array"
   ]
  },
  {
   "cell_type": "code",
   "execution_count": 10,
   "id": "e4d9df09-b148-4a0b-9415-b926920e6d79",
   "metadata": {},
   "outputs": [
    {
     "data": {
      "text/plain": [
       "13"
      ]
     },
     "execution_count": 10,
     "metadata": {},
     "output_type": "execute_result"
    }
   ],
   "source": [
    "# Get specific element [r, c]\n",
    "a[1, 5]\n",
    "a[1, -2] # Same thing"
   ]
  },
  {
   "cell_type": "code",
   "execution_count": 11,
   "id": "812bd2a7-3e96-4d8e-9dc9-5a6bda451ba8",
   "metadata": {},
   "outputs": [
    {
     "data": {
      "text/plain": [
       "array([1, 2, 3, 4, 5, 6, 7])"
      ]
     },
     "execution_count": 11,
     "metadata": {},
     "output_type": "execute_result"
    }
   ],
   "source": [
    "# Get a specific row\n",
    "a[0, :]"
   ]
  },
  {
   "cell_type": "code",
   "execution_count": 12,
   "id": "03938edc-9400-4945-9024-38dfaedd2b63",
   "metadata": {},
   "outputs": [
    {
     "data": {
      "text/plain": [
       "array([ 3, 10])"
      ]
     },
     "execution_count": 12,
     "metadata": {},
     "output_type": "execute_result"
    }
   ],
   "source": [
    "# Get a specific column\n",
    "a[:, 2]"
   ]
  },
  {
   "cell_type": "code",
   "execution_count": 13,
   "id": "664bdfd1-6a00-48bf-869b-d492b8a8c990",
   "metadata": {},
   "outputs": [
    {
     "data": {
      "text/plain": [
       "array([2, 4, 6])"
      ]
     },
     "execution_count": 13,
     "metadata": {},
     "output_type": "execute_result"
    }
   ],
   "source": [
    "# More interesting indexing\n",
    "# [start_index : end_index : step_size]\n",
    "a[0, 1 : -1 : 2]"
   ]
  },
  {
   "cell_type": "code",
   "execution_count": 14,
   "id": "86a44f63-30a2-445e-bb90-766a4ccdb4a8",
   "metadata": {},
   "outputs": [
    {
     "data": {
      "text/plain": [
       "array([[ 1,  2,  3,  4,  5,  6,  7],\n",
       "       [ 8,  9, 10, 11, 12, 20, 14]])"
      ]
     },
     "execution_count": 14,
     "metadata": {},
     "output_type": "execute_result"
    }
   ],
   "source": [
    "# Change element at index\n",
    "a[1,5] = 20\n",
    "a"
   ]
  },
  {
   "cell_type": "code",
   "execution_count": 15,
   "id": "a03cecf2-64c3-475b-8a71-f073bbc015e1",
   "metadata": {},
   "outputs": [
    {
     "name": "stdout",
     "output_type": "stream",
     "text": [
      "[[ 1  2  5  4  5  6  7]\n",
      " [ 8  9  5 11 12 20 14]]\n",
      "[[ 1  2  1  4  5  6  7]\n",
      " [ 8  9  2 11 12 20 14]]\n"
     ]
    }
   ],
   "source": [
    "# Replacing a row with 5's\n",
    "a[:,2] = 5\n",
    "print(a)\n",
    "\n",
    "# Replacing a row with a sequence\n",
    "a[:,2] = [1, 2]\n",
    "print(a)"
   ]
  },
  {
   "cell_type": "code",
   "execution_count": 16,
   "id": "0401ad61-96af-4ccc-a861-b8c43cc907ec",
   "metadata": {},
   "outputs": [
    {
     "name": "stdout",
     "output_type": "stream",
     "text": [
      "[[[1 2]\n",
      "  [3 4]]\n",
      "\n",
      " [[5 6]\n",
      "  [7 8]]]\n"
     ]
    }
   ],
   "source": [
    "# 3D Example\n",
    "b = np.array([[[1,2],[3,4]],[[5,6],[7,8]]])\n",
    "print(b)"
   ]
  },
  {
   "cell_type": "code",
   "execution_count": 17,
   "id": "315d063b-7d16-4635-be1d-83632d54f387",
   "metadata": {},
   "outputs": [
    {
     "data": {
      "text/plain": [
       "4"
      ]
     },
     "execution_count": 17,
     "metadata": {},
     "output_type": "execute_result"
    }
   ],
   "source": [
    "# Get specific element (work outside->in)\n",
    "b[0,1,1]\n",
    "\n",
    "# First block: 0\n",
    "# Second row: 1\n",
    "# Second index: 1\n",
    "# [First layer, Second row, Second index)"
   ]
  },
  {
   "cell_type": "code",
   "execution_count": 18,
   "id": "17612396-e1c2-4dd0-88d7-1b00319c2bf6",
   "metadata": {},
   "outputs": [
    {
     "data": {
      "text/plain": [
       "array([[3, 4],\n",
       "       [7, 8]])"
      ]
     },
     "execution_count": 18,
     "metadata": {},
     "output_type": "execute_result"
    }
   ],
   "source": [
    "b[:,1,:]\n",
    "\n",
    "# [Both layers, second row, both indexes)"
   ]
  },
  {
   "cell_type": "code",
   "execution_count": 19,
   "id": "6c3d29e6-04c5-4896-9ae6-22c9ee0da42b",
   "metadata": {},
   "outputs": [
    {
     "data": {
      "text/plain": [
       "array([[[1, 2],\n",
       "        [9, 9]],\n",
       "\n",
       "       [[5, 6],\n",
       "        [8, 8]]])"
      ]
     },
     "execution_count": 19,
     "metadata": {},
     "output_type": "execute_result"
    }
   ],
   "source": [
    "# Replacing\n",
    "b[:,1,:] = [[9,9],[8,8]]\n",
    "b"
   ]
  },
  {
   "cell_type": "markdown",
   "id": "688dd576-3d1f-4230-91b8-f0a7c5f65ed2",
   "metadata": {},
   "source": [
    "# Initializing Different Types of Arrays"
   ]
  },
  {
   "cell_type": "code",
   "execution_count": 20,
   "id": "74079b1b-1ae9-45e5-804c-59428b6aa5b4",
   "metadata": {},
   "outputs": [
    {
     "data": {
      "text/plain": [
       "array([[0., 0., 0.],\n",
       "       [0., 0., 0.]])"
      ]
     },
     "execution_count": 20,
     "metadata": {},
     "output_type": "execute_result"
    }
   ],
   "source": [
    "# All 0's matrix\n",
    "np.zeros((2,3))"
   ]
  },
  {
   "cell_type": "code",
   "execution_count": 21,
   "id": "29bcae32-3adb-490d-9d3b-89da9d672fe5",
   "metadata": {},
   "outputs": [
    {
     "data": {
      "text/plain": [
       "array([[[1, 1],\n",
       "        [1, 1]],\n",
       "\n",
       "       [[1, 1],\n",
       "        [1, 1]],\n",
       "\n",
       "       [[1, 1],\n",
       "        [1, 1]],\n",
       "\n",
       "       [[1, 1],\n",
       "        [1, 1]]])"
      ]
     },
     "execution_count": 21,
     "metadata": {},
     "output_type": "execute_result"
    }
   ],
   "source": [
    "# All 1's matrix\n",
    "np.ones((4,2,2), dtype='int32') # dtype optional"
   ]
  },
  {
   "cell_type": "code",
   "execution_count": 22,
   "id": "378abe27-b431-4a5a-ba37-2be074a2af04",
   "metadata": {},
   "outputs": [
    {
     "data": {
      "text/plain": [
       "array([[99, 99],\n",
       "       [99, 99]])"
      ]
     },
     "execution_count": 22,
     "metadata": {},
     "output_type": "execute_result"
    }
   ],
   "source": [
    "# Any other number\n",
    "np.full((2,2), 99)\n",
    "# 2*2 with all 99's"
   ]
  },
  {
   "cell_type": "code",
   "execution_count": 23,
   "id": "5a8bfcaa-874b-4b08-a939-4a86768843ae",
   "metadata": {},
   "outputs": [
    {
     "data": {
      "text/plain": [
       "array([[4, 4, 4, 4, 4, 4, 4],\n",
       "       [4, 4, 4, 4, 4, 4, 4]])"
      ]
     },
     "execution_count": 23,
     "metadata": {},
     "output_type": "execute_result"
    }
   ],
   "source": [
    "# Any other number (full_like)\n",
    "np.full_like(a, 4)\n",
    "# Copies dimensions of a"
   ]
  },
  {
   "cell_type": "code",
   "execution_count": 24,
   "id": "2f1853fa-d9e4-4c6e-bd04-7d20a208eb38",
   "metadata": {},
   "outputs": [
    {
     "data": {
      "text/plain": [
       "array([[[0.24314925, 0.30547436, 0.394195  ],\n",
       "        [0.81826472, 0.85545752, 0.33905719]],\n",
       "\n",
       "       [[0.42945287, 0.04829369, 0.22161343],\n",
       "        [0.58728573, 0.2513226 , 0.56636948]],\n",
       "\n",
       "       [[0.56794331, 0.95565567, 0.74505303],\n",
       "        [0.48501734, 0.45798407, 0.00117981]],\n",
       "\n",
       "       [[0.93605788, 0.13317905, 0.99469853],\n",
       "        [0.74652986, 0.34234903, 0.92084808]]])"
      ]
     },
     "execution_count": 24,
     "metadata": {},
     "output_type": "execute_result"
    }
   ],
   "source": [
    "# Random decimal number matrix\n",
    "np.random.rand(4, 2, 3)\n",
    "# np.random.random_sample(a.shape) Uses dimensions of a"
   ]
  },
  {
   "cell_type": "code",
   "execution_count": 25,
   "id": "4f15a783-577f-4f8c-9f90-d39be9b4f155",
   "metadata": {},
   "outputs": [
    {
     "data": {
      "text/plain": [
       "array([[-2, -1,  4],\n",
       "       [ 2,  5, -4],\n",
       "       [-4,  0,  5]])"
      ]
     },
     "execution_count": 25,
     "metadata": {},
     "output_type": "execute_result"
    }
   ],
   "source": [
    "# Random Integer values\n",
    "np.random.randint(-4,7, size=(3,3))"
   ]
  },
  {
   "cell_type": "code",
   "execution_count": 26,
   "id": "a9383d90-75e5-41af-a21d-4177927b930c",
   "metadata": {},
   "outputs": [
    {
     "data": {
      "text/plain": [
       "array([[1., 0., 0., 0., 0.],\n",
       "       [0., 1., 0., 0., 0.],\n",
       "       [0., 0., 1., 0., 0.],\n",
       "       [0., 0., 0., 1., 0.],\n",
       "       [0., 0., 0., 0., 1.]])"
      ]
     },
     "execution_count": 26,
     "metadata": {},
     "output_type": "execute_result"
    }
   ],
   "source": [
    "# Identity Matrix\n",
    "np.identity(5)"
   ]
  },
  {
   "cell_type": "code",
   "execution_count": 27,
   "id": "6dac8589-4288-45a0-85b7-e8cc92b214dc",
   "metadata": {},
   "outputs": [
    {
     "name": "stdout",
     "output_type": "stream",
     "text": [
      "[[1 2 3]\n",
      " [1 2 3]\n",
      " [1 2 3]\n",
      " [4 5 6]\n",
      " [4 5 6]\n",
      " [4 5 6]]\n"
     ]
    }
   ],
   "source": [
    "arr = np.array([[1, 2, 3], [4, 5, 6]])\n",
    "r1 = np.repeat(arr, 3, axis=0) # axis = 0 or 1\n",
    "print(r1)"
   ]
  },
  {
   "cell_type": "markdown",
   "id": "2497249e-ee25-4ce5-ba16-25a2736c9688",
   "metadata": {},
   "source": [
    "#### Making\n",
    "#### 1 1 1 1 1\n",
    "#### 1 0 0 0 1\n",
    "#### 1 0 9 0 1\n",
    "#### 1 0 0 0 1\n",
    "#### 1 1 1 1 1"
   ]
  },
  {
   "cell_type": "code",
   "execution_count": 28,
   "id": "33271f7c-3466-4709-8664-56e464817a8a",
   "metadata": {},
   "outputs": [
    {
     "name": "stdout",
     "output_type": "stream",
     "text": [
      "[[1. 1. 1. 1. 1.]\n",
      " [1. 1. 1. 1. 1.]\n",
      " [1. 1. 1. 1. 1.]\n",
      " [1. 1. 1. 1. 1.]\n",
      " [1. 1. 1. 1. 1.]]\n",
      "\n",
      "[[0. 0. 0.]\n",
      " [0. 9. 0.]\n",
      " [0. 0. 0.]]\n",
      "\n",
      "[[1. 1. 1. 1. 1.]\n",
      " [1. 0. 0. 0. 1.]\n",
      " [1. 0. 9. 0. 1.]\n",
      " [1. 0. 0. 0. 1.]\n",
      " [1. 1. 1. 1. 1.]]\n"
     ]
    }
   ],
   "source": [
    "output = np.ones((5, 5))\n",
    "print(output, end=\"\\n\\n\")\n",
    "\n",
    "z = np.zeros((3, 3))\n",
    "z[1, 1] = 9\n",
    "print(z, end=\"\\n\\n\")\n",
    "\n",
    "output[1:4, 1:4] = z\n",
    "print(output)"
   ]
  },
  {
   "cell_type": "markdown",
   "id": "bbdddef2-aa80-4c15-90b9-703893642ff9",
   "metadata": {},
   "source": [
    "##### Be careful when copying arrays!!!"
   ]
  },
  {
   "cell_type": "code",
   "execution_count": 29,
   "id": "88a47654-3823-4a15-a6eb-f4768de2157f",
   "metadata": {},
   "outputs": [
    {
     "name": "stdout",
     "output_type": "stream",
     "text": [
      "[100   2   3]\n",
      "[1 2 3]\n"
     ]
    }
   ],
   "source": [
    "a = np.array([1, 2, 3])\n",
    "b = a.copy() # Use copy() or it will make b simply point to a\n",
    "b[0] = 100\n",
    "print(b)\n",
    "print(a)"
   ]
  },
  {
   "cell_type": "markdown",
   "id": "8de455b5-5e3e-4a02-b6b4-253e7c34c037",
   "metadata": {},
   "source": [
    "# Mathematics"
   ]
  },
  {
   "cell_type": "code",
   "execution_count": 30,
   "id": "976b1b40-f312-43d7-a3a6-0f1c63baeb7c",
   "metadata": {},
   "outputs": [
    {
     "name": "stdout",
     "output_type": "stream",
     "text": [
      "[1 2 3 4]\n"
     ]
    }
   ],
   "source": [
    "a = np.array([1, 2, 3, 4])\n",
    "print(a)"
   ]
  },
  {
   "cell_type": "code",
   "execution_count": 31,
   "id": "8b0c1ee8-f8bc-4fc0-9f34-e7781ad3ac8f",
   "metadata": {},
   "outputs": [
    {
     "name": "stdout",
     "output_type": "stream",
     "text": [
      "[3 4 5 6]\n",
      "[-1  0  1  2]\n",
      "[2 4 6 8]\n",
      "[0.5 1.  1.5 2. ]\n"
     ]
    },
    {
     "data": {
      "text/plain": [
       "array([3, 4, 5, 6])"
      ]
     },
     "execution_count": 31,
     "metadata": {},
     "output_type": "execute_result"
    }
   ],
   "source": [
    "print(a + 2)\n",
    "print(a - 2)\n",
    "print(a * 2)\n",
    "print(a / 2)\n",
    "a += 2\n",
    "a"
   ]
  },
  {
   "cell_type": "code",
   "execution_count": 32,
   "id": "2442b5a8-5940-4b52-a640-b4334d83e386",
   "metadata": {},
   "outputs": [
    {
     "data": {
      "text/plain": [
       "array([ 0.14112001, -0.7568025 , -0.95892427, -0.2794155 ])"
      ]
     },
     "execution_count": 32,
     "metadata": {},
     "output_type": "execute_result"
    }
   ],
   "source": [
    "# Take the sin\n",
    "np.sin(a)"
   ]
  },
  {
   "cell_type": "markdown",
   "id": "d7a12813-3693-4df3-9d95-97f1432d5c50",
   "metadata": {},
   "source": [
    "https://docs.scipy.org/doc/numpy/reference/routines.math.html"
   ]
  },
  {
   "cell_type": "markdown",
   "id": "ecaa0588-688c-4fa6-addb-5152f465d977",
   "metadata": {},
   "source": [
    "# Linear Algebra"
   ]
  },
  {
   "cell_type": "markdown",
   "id": "ac451424-ddd9-4bcd-86d9-ce145ae3ade6",
   "metadata": {},
   "source": [
    "##### Multiplying Matrices"
   ]
  },
  {
   "cell_type": "code",
   "execution_count": 33,
   "id": "6eddd642-0998-40f9-90cf-55c3eb9fa63d",
   "metadata": {},
   "outputs": [
    {
     "name": "stdout",
     "output_type": "stream",
     "text": [
      "[[1. 1. 1.]\n",
      " [1. 1. 1.]]\n",
      "[[2 2]\n",
      " [2 2]\n",
      " [2 2]]\n"
     ]
    },
    {
     "data": {
      "text/plain": [
       "array([[6., 6.],\n",
       "       [6., 6.]])"
      ]
     },
     "execution_count": 33,
     "metadata": {},
     "output_type": "execute_result"
    }
   ],
   "source": [
    "a = np.ones((2, 3))\n",
    "print(a)\n",
    "\n",
    "b = np.full((3, 2), 2)\n",
    "print(b)\n",
    "\n",
    "np.matmul(a, b)"
   ]
  },
  {
   "cell_type": "code",
   "execution_count": 34,
   "id": "b846dda0-a64f-44bf-8583-5653388e420b",
   "metadata": {},
   "outputs": [
    {
     "data": {
      "text/plain": [
       "1.0"
      ]
     },
     "execution_count": 34,
     "metadata": {},
     "output_type": "execute_result"
    }
   ],
   "source": [
    "c = np.identity(3)\n",
    "np.linalg.det(c) # Find determinant"
   ]
  },
  {
   "cell_type": "markdown",
   "id": "63d96865-7036-432a-81a4-4b22e8b06f74",
   "metadata": {},
   "source": [
    "# Statistics"
   ]
  },
  {
   "cell_type": "code",
   "execution_count": 35,
   "id": "ba865616-f71a-44cf-88ac-e1c0f92e36b2",
   "metadata": {},
   "outputs": [
    {
     "data": {
      "text/plain": [
       "array([[1, 2, 3],\n",
       "       [4, 5, 6]])"
      ]
     },
     "execution_count": 35,
     "metadata": {},
     "output_type": "execute_result"
    }
   ],
   "source": [
    "stats = np.array([[1, 2, 3], [4, 5, 6]])\n",
    "stats"
   ]
  },
  {
   "cell_type": "code",
   "execution_count": 36,
   "id": "c1660812-abd2-439a-a5a4-b653970b0008",
   "metadata": {},
   "outputs": [
    {
     "data": {
      "text/plain": [
       "array([1, 4])"
      ]
     },
     "execution_count": 36,
     "metadata": {},
     "output_type": "execute_result"
    }
   ],
   "source": [
    "np.min(stats, axis=1) # [Min of first row, Min of second]"
   ]
  },
  {
   "cell_type": "code",
   "execution_count": 37,
   "id": "837cbd54-4b62-426d-b4e0-1b132c743660",
   "metadata": {},
   "outputs": [
    {
     "data": {
      "text/plain": [
       "6"
      ]
     },
     "execution_count": 37,
     "metadata": {},
     "output_type": "execute_result"
    }
   ],
   "source": [
    "np.max(stats)"
   ]
  },
  {
   "cell_type": "code",
   "execution_count": 38,
   "id": "0ebfbcfb-ef23-4d58-9ad0-f159082ab4b2",
   "metadata": {},
   "outputs": [
    {
     "data": {
      "text/plain": [
       "array([5, 7, 9])"
      ]
     },
     "execution_count": 38,
     "metadata": {},
     "output_type": "execute_result"
    }
   ],
   "source": [
    "np.sum(stats) # all elements\n",
    "np.sum(stats, axis=0) # Sum of each col"
   ]
  },
  {
   "cell_type": "markdown",
   "id": "f6215cdb-9212-4012-b2bd-97b653a304f1",
   "metadata": {},
   "source": [
    "# Reorganizing Arrays"
   ]
  },
  {
   "cell_type": "code",
   "execution_count": 39,
   "id": "798831ee-1cad-4735-8cbf-a83407a999bc",
   "metadata": {},
   "outputs": [
    {
     "name": "stdout",
     "output_type": "stream",
     "text": [
      "[[1 2 3 4]\n",
      " [5 6 7 8]]\n",
      "[[[1 2]\n",
      "  [3 4]]\n",
      "\n",
      " [[5 6]\n",
      "  [7 8]]]\n"
     ]
    }
   ],
   "source": [
    "before = np.array([[1, 2, 3, 4], [5, 6, 7, 8]])\n",
    "print(before)\n",
    "\n",
    "after = before.reshape((2, 2, 2))\n",
    "print(after)"
   ]
  },
  {
   "cell_type": "code",
   "execution_count": 40,
   "id": "d8276385-a1c7-4cf0-8f79-145baf6c5c06",
   "metadata": {},
   "outputs": [
    {
     "data": {
      "text/plain": [
       "array([[1, 2, 3, 4],\n",
       "       [5, 6, 7, 8],\n",
       "       [5, 6, 7, 8],\n",
       "       [5, 6, 7, 8]])"
      ]
     },
     "execution_count": 40,
     "metadata": {},
     "output_type": "execute_result"
    }
   ],
   "source": [
    "# Vertically Stacking Vectors\n",
    "v1 = np.array([1, 2, 3, 4])\n",
    "v2 = np.array([5, 6, 7, 8])\n",
    "\n",
    "np.vstack([v1, v2, v2, v2])"
   ]
  },
  {
   "cell_type": "code",
   "execution_count": 41,
   "id": "a91929d1-a3fb-4398-ad94-1dc893d63ad6",
   "metadata": {},
   "outputs": [
    {
     "data": {
      "text/plain": [
       "array([[1., 1., 1., 1., 0., 0.],\n",
       "       [1., 1., 1., 1., 0., 0.]])"
      ]
     },
     "execution_count": 41,
     "metadata": {},
     "output_type": "execute_result"
    }
   ],
   "source": [
    "# Horizontally Stacking\n",
    "h1 = np.ones((2, 4))\n",
    "h2 = np.zeros((2, 2))\n",
    "\n",
    "np.hstack((h1, h2))"
   ]
  },
  {
   "cell_type": "markdown",
   "id": "839c2a69-3d74-463d-8074-d3df5cd572a9",
   "metadata": {},
   "source": [
    "# Misc"
   ]
  },
  {
   "cell_type": "markdown",
   "id": "313ecdd6-ebb5-4f5e-9674-60117489d7e3",
   "metadata": {},
   "source": [
    "##### Load data from file"
   ]
  },
  {
   "cell_type": "code",
   "execution_count": 42,
   "id": "40da6f73-071c-41b4-a57b-48034c690e5f",
   "metadata": {},
   "outputs": [],
   "source": [
    "#filedata = np.genfromtxt('data.txt', delimiter=',')\n",
    "#filedata.astype('int32') # Copies data into specified type\n",
    "#filedata = filedata.astype('int32')\n",
    "filedata = np.array([[24, 675, 345, 4, 235, 35, 99, 203], \n",
    "                     [6, 645, 4, 0, 41, 456, 53, 25]])"
   ]
  },
  {
   "cell_type": "markdown",
   "id": "cfcf4f7d-b8d8-4a93-96fe-f72ae161eaaf",
   "metadata": {},
   "source": [
    "##### Bool Masking and Advanced Indexing"
   ]
  },
  {
   "cell_type": "code",
   "execution_count": 43,
   "id": "59ab382b-298e-4628-ad8b-c915f3df6228",
   "metadata": {},
   "outputs": [
    {
     "data": {
      "text/plain": [
       "array([[False,  True,  True, False,  True, False,  True,  True],\n",
       "       [False,  True, False, False, False,  True,  True, False]])"
      ]
     },
     "execution_count": 43,
     "metadata": {},
     "output_type": "execute_result"
    }
   ],
   "source": [
    "filedata > 50\n",
    "# Compares each element to 50. Makes array of true, false, etc"
   ]
  },
  {
   "cell_type": "code",
   "execution_count": 44,
   "id": "a721e6be-4d61-43e3-818f-f5a0336e6b07",
   "metadata": {},
   "outputs": [
    {
     "data": {
      "text/plain": [
       "array([675, 345, 235,  99, 203, 645, 456,  53])"
      ]
     },
     "execution_count": 44,
     "metadata": {},
     "output_type": "execute_result"
    }
   ],
   "source": [
    "filedata[filedata > 50]\n",
    "# Grabs all values greater than 50"
   ]
  },
  {
   "cell_type": "code",
   "execution_count": 45,
   "id": "4e06f470-67ff-4814-bbd6-485b6249ed8b",
   "metadata": {},
   "outputs": [
    {
     "data": {
      "text/plain": [
       "array([False,  True,  True, False,  True,  True,  True,  True])"
      ]
     },
     "execution_count": 45,
     "metadata": {},
     "output_type": "execute_result"
    }
   ],
   "source": [
    "np.any(filedata > 50, axis=0)\n",
    "# What columns have a value > 50"
   ]
  },
  {
   "cell_type": "code",
   "execution_count": 46,
   "id": "23e88c70-768b-4453-8655-45ec2f17922c",
   "metadata": {},
   "outputs": [
    {
     "data": {
      "text/plain": [
       "array([False,  True, False, False, False, False,  True, False])"
      ]
     },
     "execution_count": 46,
     "metadata": {},
     "output_type": "execute_result"
    }
   ],
   "source": [
    "np.all(filedata > 50, axis=0)\n",
    "# Which columns have all values > 50"
   ]
  },
  {
   "cell_type": "code",
   "execution_count": 47,
   "id": "c384b1ca-c47d-4b2c-a231-7d416e36e068",
   "metadata": {},
   "outputs": [
    {
     "data": {
      "text/plain": [
       "array([[False, False, False, False, False, False,  True, False],\n",
       "       [False, False, False, False, False, False,  True, False]])"
      ]
     },
     "execution_count": 47,
     "metadata": {},
     "output_type": "execute_result"
    }
   ],
   "source": [
    "((filedata > 50) & (filedata < 100))\n",
    "# All values 50 < x < 100"
   ]
  },
  {
   "cell_type": "code",
   "execution_count": 48,
   "id": "912bdcb0-5a4c-4b39-be78-f164985cf25c",
   "metadata": {},
   "outputs": [
    {
     "data": {
      "text/plain": [
       "array([[ True,  True,  True,  True,  True,  True, False,  True],\n",
       "       [ True,  True,  True,  True,  True,  True, False,  True]])"
      ]
     },
     "execution_count": 48,
     "metadata": {},
     "output_type": "execute_result"
    }
   ],
   "source": [
    "(~((filedata > 50) & (filedata < 100)))\n",
    "# Inverse of previous"
   ]
  },
  {
   "cell_type": "markdown",
   "id": "faebb8d0-25cd-4a51-99a1-f836d2427fad",
   "metadata": {},
   "source": [
    "##### Indexing with a list"
   ]
  },
  {
   "cell_type": "code",
   "execution_count": 49,
   "id": "dbef78cc-e7eb-49f7-9a54-df7df9d03e8e",
   "metadata": {},
   "outputs": [
    {
     "data": {
      "text/plain": [
       "array([2, 3, 9])"
      ]
     },
     "execution_count": 49,
     "metadata": {},
     "output_type": "execute_result"
    }
   ],
   "source": [
    "a = np.array([1, 2, 3, 4, 5, 6, 7, 8, 9])\n",
    "a[[1, 2, 8]]"
   ]
  },
  {
   "cell_type": "markdown",
   "id": "7044f93b-c5df-477c-92d9-a661f7735c44",
   "metadata": {},
   "source": [
    "# Quizzes"
   ]
  },
  {
   "cell_type": "code",
   "execution_count": 50,
   "id": "124242e1-13ab-40c2-b07a-af1fc1f9653d",
   "metadata": {},
   "outputs": [
    {
     "name": "stdout",
     "output_type": "stream",
     "text": [
      "[[ 1  2  3  4  5]\n",
      " [ 6  7  8  9 10]\n",
      " [11 12 13 14 15]\n",
      " [16 17 18 19 20]\n",
      " [21 22 23 24 25]\n",
      " [26 27 28 29 30]] \n",
      "\n",
      "[[11 12]\n",
      " [16 17]] \n",
      "\n",
      "[ 2  8 14 20] \n",
      "\n",
      "[[ 4  5]\n",
      " [24 25]\n",
      " [29 30]] \n",
      "\n"
     ]
    }
   ],
   "source": [
    "# quiz = np.array([[1, 2, 3, 4, 5],\n",
    "#                   [6, 7, 8, 9, 10],\n",
    "#                   [11, 12, 13, 14, 15],\n",
    "#                   [16, 17, 18, 19, 20],\n",
    "#                   [21, 22, 23, 24, 25],\n",
    "#                   [26, 27, 38, 29, 30]])\n",
    "quiz = np.arange(1, 31).reshape(6,5) # Easier method\n",
    "print(quiz, '\\n')\n",
    "# Index 11, 12, 16, 17\n",
    "print(quiz[2:4, 0:2], '\\n')\n",
    "\n",
    "# Index 2, 8, 14, 20 diagonally\n",
    "print(quiz[ [0, 1, 2, 3], [1, 2, 3, 4]], '\\n')\n",
    "# Row 0,1,2,3 and col 1,2,3,4\n",
    "\n",
    "# Index 4,5,24,25,29,30\n",
    "print(quiz[ [0, 4, 5], 3:], '\\n')"
   ]
  }
 ],
 "metadata": {
  "kernelspec": {
   "display_name": "Python 3 (ipykernel)",
   "language": "python",
   "name": "python3"
  },
  "language_info": {
   "codemirror_mode": {
    "name": "ipython",
    "version": 3
   },
   "file_extension": ".py",
   "mimetype": "text/x-python",
   "name": "python",
   "nbconvert_exporter": "python",
   "pygments_lexer": "ipython3",
   "version": "3.11.7"
  }
 },
 "nbformat": 4,
 "nbformat_minor": 5
}
